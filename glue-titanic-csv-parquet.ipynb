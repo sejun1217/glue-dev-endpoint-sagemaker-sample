{
 "cells": [
  {
   "cell_type": "markdown",
   "metadata": {},
   "source": [
    "# Glue Dev Endpoint - SageMaker Notebook 개발 실습\n",
    "\n",
    "1. 실습 내용\n",
    "  Glue Dev Endpoint와 연결된 SageMaker Notebook에서 Titanic.csv 샘플 데이터를 parquet로 변환하는 간단한 ETL 작업을 수행합니다 \n",
    "\n",
    "2. 사전작업\n",
    " - 샘플 데이터는 Titanic 데이터를 사용하였습니다.\n",
    "   https://www.openml.org/d/40945\n",
    " - Titanic 샘플 데이터를 S3로 업로드 합니다.\n",
    " - S3로 업로드 후 Glue Crawler를 이용하여 Data Catalog 테이블을 생성합니다(아래 코드는 Database: sample, Table: titanic_csv 생성)\n"
   ]
  },
  {
   "cell_type": "markdown",
   "metadata": {},
   "source": [
    "3. 아래는 Glue Dev Endpoint 와 SageMaker Notebook 설정이 잘 되었는 지 확인을 위해 sample.titanic_csv 테이블에 스키마 정보를 확인합니다. "
   ]
  },
  {
   "cell_type": "code",
   "execution_count": 1,
   "metadata": {},
   "outputs": [
    {
     "name": "stdout",
     "output_type": "stream",
     "text": [
      "Starting Spark application\n"
     ]
    },
    {
     "data": {
      "text/html": [
       "<table>\n",
       "<tr><th>ID</th><th>YARN Application ID</th><th>Kind</th><th>State</th><th>Spark UI</th><th>Driver log</th><th>Current session?</th></tr><tr><td>4</td><td>application_1607786024852_0005</td><td>pyspark</td><td>idle</td><td><a target=\"_blank\" href=\"http://ip-172-31-16-50.ap-northeast-2.compute.internal:20888/proxy/application_1607786024852_0005/\">Link</a></td><td><a target=\"_blank\" href=\"http://ip-172-31-16-249.ap-northeast-2.compute.internal:8042/node/containerlogs/container_1607786024852_0005_01_000001/livy\">Link</a></td><td>✔</td></tr></table>"
      ],
      "text/plain": [
       "<IPython.core.display.HTML object>"
      ]
     },
     "metadata": {},
     "output_type": "display_data"
    },
    {
     "data": {
      "application/vnd.jupyter.widget-view+json": {
       "model_id": "",
       "version_major": 2,
       "version_minor": 0
      },
      "text/plain": [
       "FloatProgress(value=0.0, bar_style='info', description='Progress:', layout=Layout(height='25px', width='50%'),…"
      ]
     },
     "metadata": {},
     "output_type": "display_data"
    },
    {
     "name": "stdout",
     "output_type": "stream",
     "text": [
      "SparkSession available as 'spark'.\n"
     ]
    },
    {
     "data": {
      "application/vnd.jupyter.widget-view+json": {
       "model_id": "",
       "version_major": 2,
       "version_minor": 0
      },
      "text/plain": [
       "FloatProgress(value=0.0, bar_style='info', description='Progress:', layout=Layout(height='25px', width='50%'),…"
      ]
     },
     "metadata": {},
     "output_type": "display_data"
    },
    {
     "name": "stdout",
     "output_type": "stream",
     "text": [
      "Count:   1309\n",
      "root\n",
      "|-- pclass: long\n",
      "|-- survived: long\n",
      "|-- name: string\n",
      "|-- sex: string\n",
      "|-- age: string\n",
      "|-- sibsp: long\n",
      "|-- parch: long\n",
      "|-- ticket: string\n",
      "|-- fare: choice\n",
      "|    |-- double\n",
      "|    |-- string\n",
      "|-- cabin: string\n",
      "|-- embarked: string\n",
      "|-- boat: string\n",
      "|-- body: string\n",
      "|-- home.dest: string"
     ]
    }
   ],
   "source": [
    "import sys\n",
    "from awsglue.transforms import *\n",
    "from awsglue.utils import getResolvedOptions\n",
    "from pyspark.context import SparkContext\n",
    "from awsglue.context import GlueContext\n",
    "from awsglue.job import Job\n",
    "\n",
    "glueContext = GlueContext(SparkContext.getOrCreate())\n",
    "titanic_csv_DyF = glueContext.create_dynamic_frame.from_catalog(database=\"sample\", table_name=\"titanic_csv\")\n",
    "print (\"Count:  \", titanic_csv_DyF.count())\n",
    "titanic_csv_DyF.printSchema()"
   ]
  },
  {
   "cell_type": "markdown",
   "metadata": {},
   "source": [
    "4. 기존에 생성된(없으면 생성) Glue ETL Job \"titanic-csv-parquet\" 을 불러옵니다."
   ]
  },
  {
   "cell_type": "code",
   "execution_count": 2,
   "metadata": {},
   "outputs": [
    {
     "data": {
      "application/vnd.jupyter.widget-view+json": {
       "model_id": "",
       "version_major": 2,
       "version_minor": 0
      },
      "text/plain": [
       "FloatProgress(value=0.0, bar_style='info', description='Progress:', layout=Layout(height='25px', width='50%'),…"
      ]
     },
     "metadata": {},
     "output_type": "display_data"
    }
   ],
   "source": [
    "job = Job(glueContext)\n",
    "job.init(\"titanic-csv-parquet\")"
   ]
  },
  {
   "cell_type": "markdown",
   "metadata": {},
   "source": [
    "5. Glue ETL Job \"titanic-csv-parquet\" 이 수행하는 스크립트를 정의합니다."
   ]
  },
  {
   "cell_type": "code",
   "execution_count": 3,
   "metadata": {},
   "outputs": [
    {
     "data": {
      "application/vnd.jupyter.widget-view+json": {
       "model_id": "",
       "version_major": 2,
       "version_minor": 0
      },
      "text/plain": [
       "FloatProgress(value=0.0, bar_style='info', description='Progress:', layout=Layout(height='25px', width='50%'),…"
      ]
     },
     "metadata": {},
     "output_type": "display_data"
    },
    {
     "name": "stdout",
     "output_type": "stream",
     "text": [
      "null_fields []"
     ]
    }
   ],
   "source": [
    "datasource0 = glueContext.create_dynamic_frame.from_catalog(database = \"sample\", table_name = \"titanic_csv\", transformation_ctx = \"datasource0\")\n",
    "\n",
    "applymapping1 = ApplyMapping.apply(frame = datasource0, mappings = [(\"pclass\", \"long\", \"pclass\", \"long\"), (\"survived\", \"long\", \"survived\", \"long\"), (\"name\", \"string\", \"name\", \"string\"), (\"sex\", \"string\", \"sex\", \"string\"), (\"age\", \"string\", \"age\", \"string\"), (\"sibsp\", \"long\", \"sibsp\", \"long\"), (\"parch\", \"long\", \"parch\", \"long\"), (\"ticket\", \"string\", \"ticket\", \"string\"), (\"fare\", \"double\", \"fare\", \"double\"), (\"cabin\", \"string\", \"cabin\", \"string\"), (\"embarked\", \"string\", \"embarked\", \"string\"), (\"boat\", \"string\", \"boat\", \"string\"), (\"body\", \"string\", \"body\", \"string\"), (\"`home.dest`\", \"string\", \"`home.dest`\", \"string\")], transformation_ctx = \"applymapping1\")\n",
    "\n",
    "resolvechoice2 = ResolveChoice.apply(frame = applymapping1, choice = \"make_struct\", transformation_ctx = \"resolvechoice2\")\n",
    "\n",
    "dropnullfields3 = DropNullFields.apply(frame = resolvechoice2, transformation_ctx = \"dropnullfields3\")\n",
    "\n",
    "datasink4 = glueContext.write_dynamic_frame.from_options(frame = dropnullfields3, connection_type = \"s3\", connection_options = {\"path\": \"s3://sample-titanic/titanic-parquet\"}, format = \"parquet\", transformation_ctx = \"datasink4\")"
   ]
  },
  {
   "cell_type": "markdown",
   "metadata": {},
   "source": [
    "6. Glue ETL Job \"titanic-csv-parquet\" 을 종료합니다."
   ]
  },
  {
   "cell_type": "code",
   "execution_count": 4,
   "metadata": {},
   "outputs": [
    {
     "data": {
      "application/vnd.jupyter.widget-view+json": {
       "model_id": "",
       "version_major": 2,
       "version_minor": 0
      },
      "text/plain": [
       "FloatProgress(value=0.0, bar_style='info', description='Progress:', layout=Layout(height='25px', width='50%'),…"
      ]
     },
     "metadata": {},
     "output_type": "display_data"
    }
   ],
   "source": [
    "job.commit()"
   ]
  },
  {
   "cell_type": "markdown",
   "metadata": {},
   "source": [
    "참고. sample.titanic_csv 테이블 에 데이터를 확인 합니다."
   ]
  },
  {
   "cell_type": "code",
   "execution_count": 5,
   "metadata": {},
   "outputs": [
    {
     "data": {
      "application/vnd.jupyter.widget-view+json": {
       "model_id": "",
       "version_major": 2,
       "version_minor": 0
      },
      "text/plain": [
       "FloatProgress(value=0.0, bar_style='info', description='Progress:', layout=Layout(height='25px', width='50%'),…"
      ]
     },
     "metadata": {},
     "output_type": "display_data"
    },
    {
     "name": "stdout",
     "output_type": "stream",
     "text": [
      "+--------+--------------------+\n",
      "|survived|                name|\n",
      "+--------+--------------------+\n",
      "|       1|Allen Miss. Elisa...|\n",
      "|       1|Allison Master. H...|\n",
      "|       0|Allison Miss. Hel...|\n",
      "|       0|Allison Mr. Hudso...|\n",
      "|       0|Allison Mrs. Huds...|\n",
      "|       1|  Anderson Mr. Harry|\n",
      "|       1|Andrews Miss. Kor...|\n",
      "|       0|Andrews Mr. Thoma...|\n",
      "|       1|Appleton Mrs. Edw...|\n",
      "|       0|Artagaveytia Mr. ...|\n",
      "|       0|Astor Col. John J...|\n",
      "|       1|Astor Mrs. John J...|\n",
      "|       1|Aubart Mme. Leont...|\n",
      "|       1|Barber Miss. Elle...|\n",
      "|       1|Barkworth Mr. Alg...|\n",
      "|       0|  Baumann Mr. John D|\n",
      "|       0|Baxter Mr. Quigg ...|\n",
      "|       1|Baxter Mrs. James...|\n",
      "|       1|Bazzani Miss. Albina|\n",
      "|       0| Beattie Mr. Thomson|\n",
      "+--------+--------------------+\n",
      "only showing top 20 rows"
     ]
    }
   ],
   "source": [
    "titanic_csv_DyF.toDF().select(['survived', 'name']).show()"
   ]
  }
 ],
 "metadata": {
  "kernelspec": {
   "display_name": "Sparkmagic (PySpark)",
   "language": "",
   "name": "pysparkkernel"
  },
  "language_info": {
   "codemirror_mode": {
    "name": "python",
    "version": 3
   },
   "mimetype": "text/x-python",
   "name": "pyspark",
   "pygments_lexer": "python3"
  }
 },
 "nbformat": 4,
 "nbformat_minor": 4
}
